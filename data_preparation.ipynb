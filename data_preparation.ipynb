{
  "cells": [
    {
      "cell_type": "markdown",
      "metadata": {
        "id": "view-in-github",
        "colab_type": "text"
      },
      "source": [
        "<a href=\"https://colab.research.google.com/github/Omar-Abd-Elwahab/VCF_fiilter/blob/main/data_preparation.ipynb\" target=\"_parent\"><img src=\"https://colab.research.google.com/assets/colab-badge.svg\" alt=\"Open In Colab\"/></a>"
      ]
    },
    {
      "cell_type": "code",
      "execution_count": null,
      "metadata": {
        "colab": {
          "base_uri": "https://localhost:8080/"
        },
        "id": "qvttGs13FkA1",
        "outputId": "9d9eaa4b-bee5-4516-8651-39b401d0659b"
      },
      "outputs": [
        {
          "name": "stdout",
          "output_type": "stream",
          "text": [
            "Reading package lists... Done\n",
            "Building dependency tree... Done\n",
            "Reading state information... Done\n",
            "The following additional packages will be installed:\n",
            "  libhts3 libhtscodecs2 python3-pysam python3-vcf\n",
            "The following NEW packages will be installed:\n",
            "  libhts3 libhtscodecs2 python3-pysam python3-vcf pyvcf\n",
            "0 upgraded, 5 newly installed, 0 to remove and 16 not upgraded.\n",
            "Need to get 2,243 kB of archives.\n",
            "After this operation, 7,117 kB of additional disk space will be used.\n",
            "Get:1 http://archive.ubuntu.com/ubuntu jammy/universe amd64 libhtscodecs2 amd64 1.1.1-3 [53.2 kB]\n",
            "Get:2 http://archive.ubuntu.com/ubuntu jammy/universe amd64 libhts3 amd64 1.13+ds-2build1 [390 kB]\n",
            "Get:3 http://archive.ubuntu.com/ubuntu jammy/universe amd64 python3-pysam amd64 0.17.0+ds-2build1 [1,749 kB]\n",
            "Get:4 http://archive.ubuntu.com/ubuntu jammy/universe amd64 python3-vcf amd64 0.6.8+git20170215.476169c-8build1 [43.5 kB]\n",
            "Get:5 http://archive.ubuntu.com/ubuntu jammy/universe amd64 pyvcf all 0.6.8+git20170215.476169c-8build1 [7,760 B]\n",
            "Fetched 2,243 kB in 15s (147 kB/s)\n",
            "Selecting previously unselected package libhtscodecs2:amd64.\n",
            "(Reading database ... 120901 files and directories currently installed.)\n",
            "Preparing to unpack .../libhtscodecs2_1.1.1-3_amd64.deb ...\n",
            "Unpacking libhtscodecs2:amd64 (1.1.1-3) ...\n",
            "Selecting previously unselected package libhts3:amd64.\n",
            "Preparing to unpack .../libhts3_1.13+ds-2build1_amd64.deb ...\n",
            "Unpacking libhts3:amd64 (1.13+ds-2build1) ...\n",
            "Selecting previously unselected package python3-pysam.\n",
            "Preparing to unpack .../python3-pysam_0.17.0+ds-2build1_amd64.deb ...\n",
            "Unpacking python3-pysam (0.17.0+ds-2build1) ...\n",
            "Selecting previously unselected package python3-vcf.\n",
            "Preparing to unpack .../python3-vcf_0.6.8+git20170215.476169c-8build1_amd64.deb ...\n",
            "Unpacking python3-vcf (0.6.8+git20170215.476169c-8build1) ...\n",
            "Selecting previously unselected package pyvcf.\n",
            "Preparing to unpack .../pyvcf_0.6.8+git20170215.476169c-8build1_all.deb ...\n",
            "Unpacking pyvcf (0.6.8+git20170215.476169c-8build1) ...\n",
            "Setting up libhtscodecs2:amd64 (1.1.1-3) ...\n",
            "Setting up libhts3:amd64 (1.13+ds-2build1) ...\n",
            "Setting up python3-pysam (0.17.0+ds-2build1) ...\n",
            "Setting up python3-vcf (0.6.8+git20170215.476169c-8build1) ...\n",
            "Setting up pyvcf (0.6.8+git20170215.476169c-8build1) ...\n",
            "Processing triggers for man-db (2.10.2-1) ...\n",
            "Processing triggers for libc-bin (2.35-0ubuntu3.1) ...\n",
            "/sbin/ldconfig.real: /usr/local/lib/libtbbmalloc_proxy.so.2 is not a symbolic link\n",
            "\n",
            "/sbin/ldconfig.real: /usr/local/lib/libtbb.so.12 is not a symbolic link\n",
            "\n",
            "/sbin/ldconfig.real: /usr/local/lib/libtbbbind_2_0.so.3 is not a symbolic link\n",
            "\n",
            "/sbin/ldconfig.real: /usr/local/lib/libtbbbind_2_5.so.3 is not a symbolic link\n",
            "\n",
            "/sbin/ldconfig.real: /usr/local/lib/libtbbmalloc.so.2 is not a symbolic link\n",
            "\n",
            "/sbin/ldconfig.real: /usr/local/lib/libtbbbind.so.3 is not a symbolic link\n",
            "\n"
          ]
        }
      ],
      "source": [
        "!apt-get install pyvcf\n"
      ]
    },
    {
      "cell_type": "code",
      "execution_count": null,
      "metadata": {
        "colab": {
          "base_uri": "https://localhost:8080/"
        },
        "id": "sDG3wFEmGbUH",
        "outputId": "30785c2c-6d82-4846-c57c-52676bd47325"
      },
      "outputs": [
        {
          "name": "stdout",
          "output_type": "stream",
          "text": [
            "Reading package lists... Done\n",
            "Building dependency tree... Done\n",
            "Reading state information... Done\n",
            "The following NEW packages will be installed:\n",
            "  tabix\n",
            "0 upgraded, 1 newly installed, 0 to remove and 16 not upgraded.\n",
            "Need to get 351 kB of archives.\n",
            "After this operation, 1,179 kB of additional disk space will be used.\n",
            "Get:1 http://archive.ubuntu.com/ubuntu jammy/universe amd64 tabix amd64 1.13+ds-2build1 [351 kB]\n",
            "Fetched 351 kB in 0s (1,719 kB/s)\n",
            "Selecting previously unselected package tabix.\n",
            "(Reading database ... 121046 files and directories currently installed.)\n",
            "Preparing to unpack .../tabix_1.13+ds-2build1_amd64.deb ...\n",
            "Unpacking tabix (1.13+ds-2build1) ...\n",
            "Setting up tabix (1.13+ds-2build1) ...\n",
            "Processing triggers for man-db (2.10.2-1) ...\n",
            "Collecting pytabix\n",
            "  Downloading pytabix-0.1.tar.gz (45 kB)\n",
            "\u001b[2K     \u001b[90m━━━━━━━━━━━━━━━━━━━━━━━━━━━━━━━━━━━━━━━━\u001b[0m \u001b[32m45.8/45.8 kB\u001b[0m \u001b[31m1.3 MB/s\u001b[0m eta \u001b[36m0:00:00\u001b[0m\n",
            "\u001b[?25h  Preparing metadata (setup.py) ... \u001b[?25l\u001b[?25hdone\n",
            "Building wheels for collected packages: pytabix\n",
            "  Building wheel for pytabix (setup.py) ... \u001b[?25l\u001b[?25hdone\n",
            "  Created wheel for pytabix: filename=pytabix-0.1-cp310-cp310-linux_x86_64.whl size=109312 sha256=2ef5025f334bb220651a2f43c50a09f1e8b621471c0c44b7bc4f85367596573a\n",
            "  Stored in directory: /root/.cache/pip/wheels/ea/cb/a7/1d7bb3b01c1f6a75206fba17b6f453b35e3020a9f5f3bedfc6\n",
            "Successfully built pytabix\n",
            "Installing collected packages: pytabix\n",
            "Successfully installed pytabix-0.1\n"
          ]
        }
      ],
      "source": [
        "!apt-get install -y tabix\n",
        "!pip install pytabix\n"
      ]
    },
    {
      "cell_type": "code",
      "execution_count": null,
      "metadata": {
        "colab": {
          "base_uri": "https://localhost:8080/"
        },
        "id": "wifOrgKIFMO8",
        "outputId": "07b0366b-2986-48f2-c394-763c35923557"
      },
      "outputs": [
        {
          "name": "stdout",
          "output_type": "stream",
          "text": [
            "Mounted at /content/drive\n"
          ]
        }
      ],
      "source": [
        "# Opening the drive\n",
        "from google.colab import drive\n",
        "drive.mount('/content/drive')"
      ]
    },
    {
      "cell_type": "code",
      "execution_count": null,
      "metadata": {
        "colab": {
          "base_uri": "https://localhost:8080/"
        },
        "id": "rig8kQ5EFYqK",
        "outputId": "54e406f9-7d67-4931-f491-e7261507bd20"
      },
      "outputs": [
        {
          "name": "stdout",
          "output_type": "stream",
          "text": [
            "/content/drive/MyDrive/Colab Notebooks/deepref\n"
          ]
        }
      ],
      "source": [
        "cd ./drive/MyDrive/Colab\\ Notebooks/deepref\n"
      ]
    },
    {
      "cell_type": "code",
      "execution_count": null,
      "metadata": {
        "colab": {
          "base_uri": "https://localhost:8080/",
          "height": 35
        },
        "id": "rkvNf6JfC8Jb",
        "outputId": "58901c51-0c71-4453-e7f0-2dc5dee01169"
      },
      "outputs": [
        {
          "data": {
            "application/vnd.google.colaboratory.intrinsic+json": {
              "type": "string"
            },
            "text/plain": [
              "'/content/drive/MyDrive/Colab Notebooks/deepref'"
            ]
          },
          "execution_count": 5,
          "metadata": {},
          "output_type": "execute_result"
        }
      ],
      "source": [
        "pwd"
      ]
    },
    {
      "cell_type": "code",
      "execution_count": null,
      "metadata": {
        "id": "8K3u9x5d8SXy"
      },
      "outputs": [],
      "source": []
    },
    {
      "cell_type": "code",
      "execution_count": null,
      "metadata": {
        "id": "cKxXK6wW7WHm"
      },
      "outputs": [],
      "source": [
        "import vcf\n",
        "\n",
        "#if a variat exist in both a VCF file anf the reference VCF, the variant FILTER is set to PASS. Else, it is FAIL\n",
        "def update_filter_column(vcf_file, reference_vcf, output_vcf):\n",
        "    vcf_reader = vcf.Reader(filename=vcf_file)\n",
        "    reference_reader = vcf.Reader(filename=reference_vcf)\n",
        "\n",
        "    reference_variants = set((record.POS) for record in reference_reader)\n",
        "\n",
        "    vcf_writer = vcf.Writer(open(output_vcf, 'w'), vcf_reader)\n",
        "\n",
        "    for record in vcf_reader:\n",
        "        variant_key = (record.POS)\n",
        "        if variant_key in reference_variants:\n",
        "            record.FILTER = \"PASS\"\n",
        "\n",
        "        else:\n",
        "            record.FILTER = \"FAIL\"\n",
        "\n",
        "        vcf_writer.write_record(record)\n",
        "\n",
        "\n",
        "\n"
      ]
    },
    {
      "cell_type": "code",
      "execution_count": null,
      "metadata": {
        "colab": {
          "background_save": true
        },
        "id": "ZtGdqJyO7Rho"
      },
      "outputs": [],
      "source": [
        "# Provide the paths to your VCF files\n",
        "file_1 = \"HG003_platypus.vcf\"\n",
        "file_2 = \"HG003-bcf.vcf\"\n",
        "file_4 = \"HG003_gatk.vcf\"\n",
        "reference_vcf_path = \"HG003_GRCh38_1_22_v4.2.1_benchmark.vcf\"\n",
        "output_1 = \"/content/HG003_platypus_updated.vcf\"\n",
        "output_2 = \"/content/HG003_bcf_updated.vcf\"\n",
        "output_4 = \"/content/HG003_gatk_updated.vcf\"\n",
        "\n",
        "update_filter_column(file_1, reference_vcf_path, output_1)\n",
        "update_filter_column(file_2, reference_vcf_path, output_2)\n",
        "update_filter_column(file_4, reference_vcf_path, output_4)\n"
      ]
    },
    {
      "cell_type": "code",
      "execution_count": null,
      "metadata": {
        "colab": {
          "background_save": true
        },
        "id": "kVCzOI4uprsk",
        "outputId": "f5a0cde1-2858-4c12-b44d-c154ac999e8a"
      },
      "outputs": [
        {
          "name": "stdout",
          "output_type": "stream",
          "text": [
            "/content\n"
          ]
        }
      ],
      "source": [
        "cd /content"
      ]
    },
    {
      "cell_type": "code",
      "execution_count": null,
      "metadata": {
        "colab": {
          "background_save": true
        },
        "id": "vugLRvXN43nQ",
        "outputId": "30aebc0f-99aa-49e8-bd02-aa9fa51ef81c"
      },
      "outputs": [
        {
          "name": "stdout",
          "output_type": "stream",
          "text": [
            "Reading package lists... Done\n",
            "Building dependency tree... Done\n",
            "Reading state information... Done\n",
            "The following NEW packages will be installed:\n",
            "  vcftools\n",
            "0 upgraded, 1 newly installed, 0 to remove and 16 not upgraded.\n",
            "Need to get 393 kB of archives.\n",
            "After this operation, 1,485 kB of additional disk space will be used.\n",
            "Get:1 http://archive.ubuntu.com/ubuntu jammy/universe amd64 vcftools amd64 0.1.16-3 [393 kB]\n",
            "Fetched 393 kB in 1s (563 kB/s)\n",
            "Selecting previously unselected package vcftools.\n",
            "(Reading database ... 121055 files and directories currently installed.)\n",
            "Preparing to unpack .../vcftools_0.1.16-3_amd64.deb ...\n",
            "Unpacking vcftools (0.1.16-3) ...\n",
            "Setting up vcftools (0.1.16-3) ...\n",
            "Processing triggers for man-db (2.10.2-1) ...\n"
          ]
        }
      ],
      "source": [
        "!apt-get install vcftools\n"
      ]
    },
    {
      "cell_type": "code",
      "execution_count": null,
      "metadata": {
        "colab": {
          "background_save": true
        },
        "id": "7WvM2CJT8Pbe",
        "outputId": "1506ca95-6d6c-4df2-de91-8028bbfe75db"
      },
      "outputs": [
        {
          "data": {
            "application/vnd.google.colaboratory.intrinsic+json": {
              "type": "string"
            },
            "text/plain": [
              "'/content'"
            ]
          },
          "execution_count": 10,
          "metadata": {},
          "output_type": "execute_result"
        }
      ],
      "source": [
        "pwd"
      ]
    },
    {
      "cell_type": "code",
      "execution_count": null,
      "metadata": {
        "colab": {
          "background_save": true
        },
        "id": "U8zjFC2_5R_S"
      },
      "outputs": [],
      "source": []
    },
    {
      "cell_type": "code",
      "execution_count": null,
      "metadata": {
        "colab": {
          "background_save": true
        },
        "id": "1ZuXkH0y3TKa",
        "outputId": "91cf577a-16eb-4cc6-b9f8-18b29bc90df0"
      },
      "outputs": [
        {
          "name": "stdout",
          "output_type": "stream",
          "text": [
            "589740\n",
            "708823\n",
            "964363\n",
            "3357360\n",
            "3714910\n",
            "3668708\n"
          ]
        }
      ],
      "source": [
        "#print the number of fail variants\n",
        "!grep -o -i FAIL HG003_platypus_updated.vcf | wc -l\n",
        "!grep -o -i FAIL HG003_bcf_updated.vcf | wc -l\n",
        "!grep -o -i FAIL HG003_gatk_updated.vcf | wc -l\n",
        "\n",
        "!grep -o -i PASS HG003_platypus_updated.vcf | wc -l\n",
        "!grep -o -i PASS HG003_bcf_updated.vcf | wc -l\n",
        "!grep -o -i PASS HG003_gatk_updated.vcf | wc -l\n",
        "\n",
        "\n",
        "\n"
      ]
    },
    {
      "cell_type": "code",
      "execution_count": null,
      "metadata": {
        "colab": {
          "background_save": true
        },
        "id": "D0gdtBx64s2Y"
      },
      "outputs": [],
      "source": []
    },
    {
      "cell_type": "code",
      "execution_count": null,
      "metadata": {
        "colab": {
          "background_save": true
        },
        "id": "gaUncurf43hW",
        "outputId": "b8cba979-5368-4e98-808c-48195fdb648c"
      },
      "outputs": [
        {
          "name": "stdout",
          "output_type": "stream",
          "text": [
            "total 2.6G\n",
            "-rw-r--r-- 1 root root 227K Sep 12 20:47 bert-base-uncased-vocab.txt\n",
            "drwx------ 6 root root 4.0K Sep 12 20:48 drive\n",
            "-rw-r--r-- 1 root root 707M Sep 12 21:18 HG003_bcf_updated.vcf\n",
            "-rw-r--r-- 1 root root 860M Sep 12 21:33 HG003_gatk_updated.vcf\n",
            "-rw-r--r-- 1 root root 1.1G Sep 12 21:05 HG003_platypus_updated.vcf\n",
            "drwxr-xr-x 1 root root 4.0K Sep 11 13:22 sample_data\n"
          ]
        }
      ],
      "source": [
        "!ls -lh"
      ]
    },
    {
      "cell_type": "code",
      "execution_count": null,
      "metadata": {
        "colab": {
          "background_save": true
        },
        "id": "bs7n3cTS42fA"
      },
      "outputs": [],
      "source": [
        "!vcf-concat HG003_platypus_updated.vcf HG003_bcf_updated.vcf \\\n",
        "  HG003_gatk_updated.vcf > HG003_merged.vcf"
      ]
    },
    {
      "cell_type": "code",
      "execution_count": null,
      "metadata": {
        "colab": {
          "background_save": true
        },
        "id": "i6OWUMqlqvsd",
        "outputId": "848706d7-3977-40d2-9450-14631ffc8d0f"
      },
      "outputs": [
        {
          "name": "stdout",
          "output_type": "stream",
          "text": [
            "total 5.1G\n",
            "-rw-r--r-- 1 root root 227K Sep 12 20:47 bert-base-uncased-vocab.txt\n",
            "drwx------ 6 root root 4.0K Sep 12 20:48 \u001b[0m\u001b[01;34mdrive\u001b[0m/\n",
            "-rw-r--r-- 1 root root 707M Sep 12 21:18 HG003_bcf_updated.vcf\n",
            "-rw-r--r-- 1 root root 860M Sep 12 21:33 HG003_gatk_updated.vcf\n",
            "-rw-r--r-- 1 root root 2.6G Sep 12 21:36 HG003_merged.vcf\n",
            "-rw-r--r-- 1 root root 1.1G Sep 12 21:05 HG003_platypus_updated.vcf\n",
            "drwxr-xr-x 1 root root 4.0K Sep 11 13:22 \u001b[01;34msample_data\u001b[0m/\n"
          ]
        }
      ],
      "source": [
        "ls -lh"
      ]
    },
    {
      "cell_type": "code",
      "execution_count": null,
      "metadata": {
        "colab": {
          "background_save": true
        },
        "id": "oRmyUHNTt3ez",
        "outputId": "ae79b06a-1426-4ab4-f361-fe46f32faf60"
      },
      "outputs": [
        {
          "name": "stdout",
          "output_type": "stream",
          "text": [
            "   1270 TYPE=complex\n",
            "1095520 TYPE=del\n",
            " 970241 TYPE=ins\n",
            " 142968 TYPE=mnp\n",
            "10793897 TYPE=snp\n"
          ]
        }
      ],
      "source": [
        "!cat HG003_merged.vcf | vcf-annotate --fill-type | grep -oP \"TYPE=\\w+\" | sort | uniq -c"
      ]
    },
    {
      "cell_type": "code",
      "execution_count": null,
      "metadata": {
        "colab": {
          "background_save": true
        },
        "id": "InR0kuO3unaM",
        "outputId": "daa248ec-f95a-4e15-fdf4-989779e1b68d"
      },
      "outputs": [
        {
          "name": "stdout",
          "output_type": "stream",
          "text": [
            "\n",
            "VCFtools - 0.1.16\n",
            "(C) Adam Auton and Anthony Marcketta 2009\n",
            "\n",
            "Parameters as interpreted:\n",
            "\t--vcf HG003_merged.vcf\n",
            "\t--recode-INFO-all\n",
            "\t--out SNPs_merged_hg003\n",
            "\t--recode\n",
            "\t--remove-indels\n",
            "\n",
            "Warning: Expected at least 2 parts in INFO entry: ID=Source,Number=.,Type=String,Description=\"Was this variant suggested by Playtypus, Assembler, or from a VCF?\">\n",
            "Warning: Expected at least 2 parts in INFO entry: ID=Source,Number=.,Type=String,Description=\"Was this variant suggested by Playtypus, Assembler, or from a VCF?\">\n",
            "Warning: Expected at least 2 parts in FORMAT entry: ID=GL,Number=.,Type=Float,Description=\"Genotype log10-likelihoods for AA,AB and BB genotypes, where A = ref and B = variant. Only applicable for bi-allelic sites\">\n",
            "Warning: Expected at least 2 parts in FORMAT entry: ID=badReads,Description=\"Variant supported only by reads with low quality bases close to variant position, and not present on both strands.\">\n",
            "After filtering, kept 1 out of 1 Individuals\n",
            "Outputting VCF file...\n",
            "After filtering, kept 10787569 out of a possible 13003896 Sites\n",
            "Run Time = 149.00 seconds\n"
          ]
        }
      ],
      "source": [
        "!vcftools --vcf HG003_merged.vcf --remove-indels --recode --recode-INFO-all --out SNPs_merged_hg003"
      ]
    },
    {
      "cell_type": "code",
      "execution_count": null,
      "metadata": {
        "colab": {
          "background_save": true
        },
        "id": "3JbfaJiSZCPv",
        "outputId": "0f2f917b-ca98-4bd7-cae2-43727933c3bb"
      },
      "outputs": [
        {
          "name": "stdout",
          "output_type": "stream",
          "text": [
            "10787569 TYPE=snp\n"
          ]
        }
      ],
      "source": [
        "!cat SNPs_merged_hg003.recode.vcf | vcf-annotate --fill-type | grep -oP \"TYPE=\\w+\" | sort | uniq -c"
      ]
    },
    {
      "cell_type": "code",
      "execution_count": null,
      "metadata": {
        "colab": {
          "background_save": true
        },
        "id": "xGjDREbjZCRu",
        "outputId": "57d8ed0a-17d5-4b33-c483-4c709c64fdb6"
      },
      "outputs": [
        {
          "name": "stdout",
          "output_type": "stream",
          "text": [
            "\n",
            "VCFtools - 0.1.16\n",
            "(C) Adam Auton and Anthony Marcketta 2009\n",
            "\n",
            "Parameters as interpreted:\n",
            "\t--vcf HG003_merged.vcf\n",
            "\t--recode-INFO-all\n",
            "\t--keep-only-indels\n",
            "\t--out INDELs_merged_hg003\n",
            "\t--recode\n",
            "\n",
            "Warning: Expected at least 2 parts in INFO entry: ID=Source,Number=.,Type=String,Description=\"Was this variant suggested by Playtypus, Assembler, or from a VCF?\">\n",
            "Warning: Expected at least 2 parts in INFO entry: ID=Source,Number=.,Type=String,Description=\"Was this variant suggested by Playtypus, Assembler, or from a VCF?\">\n",
            "Warning: Expected at least 2 parts in FORMAT entry: ID=GL,Number=.,Type=Float,Description=\"Genotype log10-likelihoods for AA,AB and BB genotypes, where A = ref and B = variant. Only applicable for bi-allelic sites\">\n",
            "Warning: Expected at least 2 parts in FORMAT entry: ID=badReads,Description=\"Variant supported only by reads with low quality bases close to variant position, and not present on both strands.\">\n",
            "After filtering, kept 1 out of 1 Individuals\n",
            "Outputting VCF file...\n",
            "After filtering, kept 2216327 out of a possible 13003896 Sites\n",
            "Run Time = 44.00 seconds\n"
          ]
        }
      ],
      "source": [
        "!vcftools --vcf HG003_merged.vcf --keep-only-indels --recode --recode-INFO-all --out INDELs_merged_hg003"
      ]
    },
    {
      "cell_type": "code",
      "execution_count": null,
      "metadata": {
        "colab": {
          "background_save": true
        },
        "id": "OL6AXhGNepqS",
        "outputId": "11f677fa-e206-4571-beee-858617451e47"
      },
      "outputs": [
        {
          "name": "stdout",
          "output_type": "stream",
          "text": [
            "   1270 TYPE=complex\n",
            "1095520 TYPE=del\n",
            " 970241 TYPE=ins\n",
            " 142968 TYPE=mnp\n",
            "   6328 TYPE=snp\n"
          ]
        }
      ],
      "source": [
        "!cat INDELs_merged_hg003.recode.vcf | vcf-annotate --fill-type | grep -oP \"TYPE=\\w+\" | sort | uniq -c"
      ]
    },
    {
      "cell_type": "code",
      "execution_count": null,
      "metadata": {
        "colab": {
          "background_save": true
        },
        "id": "2zrUTn1ffk_T"
      },
      "outputs": [],
      "source": []
    },
    {
      "cell_type": "code",
      "execution_count": null,
      "metadata": {
        "colab": {
          "background_save": true
        },
        "id": "TfEpl3ZeflEC"
      },
      "outputs": [],
      "source": [
        "#find unique words to be added later in the vocab list for the TRNASFORMERS model\n",
        "def find_words_between_substring(file_path):\n",
        "    found_words = []\n",
        "\n",
        "    with open(file_path, 'r') as file:\n",
        "        content = file.read()\n",
        "        start_index = content.find(\"ID=\")\n",
        "\n",
        "        while start_index != -1:\n",
        "            start_index += 3  # Length of \"ID=\"\n",
        "            end_index = content.find(\",\", start_index)\n",
        "            if end_index != -1:\n",
        "                found_words.append(content[start_index:end_index].strip())\n",
        "            start_index = content.find(\"ID=\", end_index)\n",
        "\n",
        "    return found_words\n",
        "\n",
        "\n"
      ]
    },
    {
      "cell_type": "code",
      "execution_count": null,
      "metadata": {
        "colab": {
          "background_save": true
        },
        "id": "mg06ss65flF4",
        "outputId": "aa4c9a91-1f7f-40c3-f58d-b76a9da3aeba"
      },
      "outputs": [
        {
          "name": "stdout",
          "output_type": "stream",
          "text": [
            "['INDEL', 'IDV', 'IMF', 'DP', 'VDB', 'RPBZ', 'MQBZ', 'BQBZ', 'MQSBZ', 'SCBZ', 'FS', 'SGB', 'MQ0F', 'AC', 'AN', 'DP4', 'MQ', 'PL', 'GT', 'PASS', '*', 'chr1', 'chr2', 'chr3', 'chr4', 'chr5', 'chr6', 'chr7', 'chr8', 'chr9', 'chr10', 'chr11', 'chr12', 'chr13', 'chr14', 'chr15', 'chr16', 'chr17', 'chr18', 'chr19', 'chr20', 'chr21', 'chr22', 'chrX', 'chrY', 'chrM', 'chr1_KI270706v1_random', 'chr1_KI270707v1_random', 'chr1_KI270708v1_random', 'chr1_KI270709v1_random', 'chr1_KI270710v1_random', 'chr1_KI270711v1_random', 'chr1_KI270712v1_random', 'chr1_KI270713v1_random', 'chr1_KI270714v1_random', 'chr2_KI270715v1_random', 'chr2_KI270716v1_random', 'chr3_GL000221v1_random', 'chr4_GL000008v2_random', 'chr5_GL000208v1_random', 'chr9_KI270717v1_random', 'chr9_KI270718v1_random', 'chr9_KI270719v1_random', 'chr9_KI270720v1_random', 'chr11_KI270721v1_random', 'chr14_GL000009v2_random', 'chr14_GL000225v1_random', 'chr14_KI270722v1_random', 'chr14_GL000194v1_random', 'chr14_KI270723v1_random', 'chr14_KI270724v1_random', 'chr14_KI270725v1_random', 'chr14_KI270726v1_random', 'chr15_KI270727v1_random', 'chr16_KI270728v1_random', 'chr17_GL000205v2_random', 'chr17_KI270729v1_random', 'chr17_KI270730v1_random', 'chr22_KI270731v1_random', 'chr22_KI270732v1_random', 'chr22_KI270733v1_random', 'chr22_KI270734v1_random', 'chr22_KI270735v1_random', 'chr22_KI270736v1_random', 'chr22_KI270737v1_random', 'chr22_KI270738v1_random', 'chr22_KI270739v1_random', 'chrY_KI270740v1_random', 'chrUn_KI270302v1', 'chrUn_KI270304v1', 'chrUn_KI270303v1', 'chrUn_KI270305v1', 'chrUn_KI270322v1', 'chrUn_KI270320v1', 'chrUn_KI270310v1', 'chrUn_KI270316v1', 'chrUn_KI270315v1', 'chrUn_KI270312v1', 'chrUn_KI270311v1', 'chrUn_KI270317v1', 'chrUn_KI270412v1', 'chrUn_KI270411v1', 'chrUn_KI270414v1', 'chrUn_KI270419v1', 'chrUn_KI270418v1', 'chrUn_KI270420v1', 'chrUn_KI270424v1', 'chrUn_KI270417v1', 'chrUn_KI270422v1', 'chrUn_KI270423v1', 'chrUn_KI270425v1', 'chrUn_KI270429v1', 'chrUn_KI270442v1', 'chrUn_KI270466v1', 'chrUn_KI270465v1', 'chrUn_KI270467v1', 'chrUn_KI270435v1', 'chrUn_KI270438v1', 'chrUn_KI270468v1', 'chrUn_KI270510v1', 'chrUn_KI270509v1', 'chrUn_KI270518v1', 'chrUn_KI270508v1', 'chrUn_KI270516v1', 'chrUn_KI270512v1', 'chrUn_KI270519v1', 'chrUn_KI270522v1', 'chrUn_KI270511v1', 'chrUn_KI270515v1', 'chrUn_KI270507v1', 'chrUn_KI270517v1', 'chrUn_KI270529v1', 'chrUn_KI270528v1', 'chrUn_KI270530v1', 'chrUn_KI270539v1', 'chrUn_KI270538v1', 'chrUn_KI270544v1', 'chrUn_KI270548v1', 'chrUn_KI270583v1', 'chrUn_KI270587v1', 'chrUn_KI270580v1', 'chrUn_KI270581v1', 'chrUn_KI270579v1', 'chrUn_KI270589v1', 'chrUn_KI270590v1', 'chrUn_KI270584v1', 'chrUn_KI270582v1', 'chrUn_KI270588v1', 'chrUn_KI270593v1', 'chrUn_KI270591v1', 'chrUn_KI270330v1', 'chrUn_KI270329v1', 'chrUn_KI270334v1', 'chrUn_KI270333v1', 'chrUn_KI270335v1', 'chrUn_KI270338v1', 'chrUn_KI270340v1', 'chrUn_KI270336v1', 'chrUn_KI270337v1', 'chrUn_KI270363v1', 'chrUn_KI270364v1', 'chrUn_KI270362v1', 'chrUn_KI270366v1', 'chrUn_KI270378v1', 'chrUn_KI270379v1', 'chrUn_KI270389v1', 'chrUn_KI270390v1', 'chrUn_KI270387v1', 'chrUn_KI270395v1', 'chrUn_KI270396v1', 'chrUn_KI270388v1', 'chrUn_KI270394v1', 'chrUn_KI270386v1', 'chrUn_KI270391v1', 'chrUn_KI270383v1', 'chrUn_KI270393v1', 'chrUn_KI270384v1', 'chrUn_KI270392v1', 'chrUn_KI270381v1', 'chrUn_KI270385v1', 'chrUn_KI270382v1', 'chrUn_KI270376v1', 'chrUn_KI270374v1', 'chrUn_KI270372v1', 'chrUn_KI270373v1', 'chrUn_KI270375v1', 'chrUn_KI270371v1', 'chrUn_KI270448v1', 'chrUn_KI270521v1', 'chrUn_GL000195v1', 'chrUn_GL000219v1', 'chrUn_GL000220v1', 'chrUn_GL000224v1', 'chrUn_KI270741v1', 'chrUn_GL000226v1', 'chrUn_GL000213v1', 'chrUn_KI270743v1', 'chrUn_KI270744v1', 'chrUn_KI270745v1', 'chrUn_KI270746v1', 'chrUn_KI270747v1', 'chrUn_KI270748v1', 'chrUn_KI270749v1', 'chrUn_KI270750v1', 'chrUn_KI270751v1', 'chrUn_KI270752v1', 'chrUn_KI270753v1', 'chrUn_KI270754v1', 'chrUn_KI270755v1', 'chrUn_KI270756v1', 'chrUn_KI270757v1', 'chrUn_GL000214v1', 'chrUn_KI270742v1', 'chrUn_GL000216v2', 'chrUn_GL000218v1', 'chrEBV']\n",
            "['FR', 'MMLQ', 'TCR', 'HP', 'WE', 'Source', 'FS', 'WS', 'PP', 'TR', 'NF', 'TCF', 'NR', 'TC', 'END', 'MGOF', 'SbPval', 'START', 'ReadPosRankSum', 'MQ', 'QD', 'SC', 'BRF', 'HapScore', 'Size', 'GT', 'GQ', 'GOF', 'NR', 'GL', 'NV', 'GOF', 'badReads', 'alleleBias', 'hp10', 'Q20', 'HapScore', 'MQ', 'strandBias', 'SC', 'QualDepth', 'REFCALL', 'QD']\n",
            "['HaplotypeCaller', 'AC', 'AF', 'AN', 'BaseQRankSum', 'DP', 'ExcessHet', 'FS', 'InbreedingCoeff', 'MLEAC', 'MLEAF', 'MQ', 'MQRankSum', 'QD', 'ReadPosRankSum', 'SOR', 'AD', 'DP', 'GQ', 'GT', 'PL', 'LowQual', 'chr1', 'chr2', 'chr3', 'chr4', 'chr5', 'chr6', 'chr7', 'chr8', 'chr9', 'chr10', 'chr11', 'chr12', 'chr13', 'chr14', 'chr15', 'chr16', 'chr17', 'chr18', 'chr19', 'chr20', 'chr21', 'chr22', 'chrX', 'chrY', 'chrM', 'chr1_KI270706v1_random', 'chr1_KI270707v1_random', 'chr1_KI270708v1_random', 'chr1_KI270709v1_random', 'chr1_KI270710v1_random', 'chr1_KI270711v1_random', 'chr1_KI270712v1_random', 'chr1_KI270713v1_random', 'chr1_KI270714v1_random', 'chr2_KI270715v1_random', 'chr2_KI270716v1_random', 'chr3_GL000221v1_random', 'chr4_GL000008v2_random', 'chr5_GL000208v1_random', 'chr9_KI270717v1_random', 'chr9_KI270718v1_random', 'chr9_KI270719v1_random', 'chr9_KI270720v1_random', 'chr11_KI270721v1_random', 'chr14_GL000009v2_random', 'chr14_GL000225v1_random', 'chr14_KI270722v1_random', 'chr14_GL000194v1_random', 'chr14_KI270723v1_random', 'chr14_KI270724v1_random', 'chr14_KI270725v1_random', 'chr14_KI270726v1_random', 'chr15_KI270727v1_random', 'chr16_KI270728v1_random', 'chr17_GL000205v2_random', 'chr17_KI270729v1_random', 'chr17_KI270730v1_random', 'chr22_KI270731v1_random', 'chr22_KI270732v1_random', 'chr22_KI270733v1_random', 'chr22_KI270734v1_random', 'chr22_KI270735v1_random', 'chr22_KI270736v1_random', 'chr22_KI270737v1_random', 'chr22_KI270738v1_random', 'chr22_KI270739v1_random', 'chrY_KI270740v1_random', 'chrUn_KI270302v1', 'chrUn_KI270304v1', 'chrUn_KI270303v1', 'chrUn_KI270305v1', 'chrUn_KI270322v1', 'chrUn_KI270320v1', 'chrUn_KI270310v1', 'chrUn_KI270316v1', 'chrUn_KI270315v1', 'chrUn_KI270312v1', 'chrUn_KI270311v1', 'chrUn_KI270317v1', 'chrUn_KI270412v1', 'chrUn_KI270411v1', 'chrUn_KI270414v1', 'chrUn_KI270419v1', 'chrUn_KI270418v1', 'chrUn_KI270420v1', 'chrUn_KI270424v1', 'chrUn_KI270417v1', 'chrUn_KI270422v1', 'chrUn_KI270423v1', 'chrUn_KI270425v1', 'chrUn_KI270429v1', 'chrUn_KI270442v1', 'chrUn_KI270466v1', 'chrUn_KI270465v1', 'chrUn_KI270467v1', 'chrUn_KI270435v1', 'chrUn_KI270438v1', 'chrUn_KI270468v1', 'chrUn_KI270510v1', 'chrUn_KI270509v1', 'chrUn_KI270518v1', 'chrUn_KI270508v1', 'chrUn_KI270516v1', 'chrUn_KI270512v1', 'chrUn_KI270519v1', 'chrUn_KI270522v1', 'chrUn_KI270511v1', 'chrUn_KI270515v1', 'chrUn_KI270507v1', 'chrUn_KI270517v1', 'chrUn_KI270529v1', 'chrUn_KI270528v1', 'chrUn_KI270530v1', 'chrUn_KI270539v1', 'chrUn_KI270538v1', 'chrUn_KI270544v1', 'chrUn_KI270548v1', 'chrUn_KI270583v1', 'chrUn_KI270587v1', 'chrUn_KI270580v1', 'chrUn_KI270581v1', 'chrUn_KI270579v1', 'chrUn_KI270589v1', 'chrUn_KI270590v1', 'chrUn_KI270584v1', 'chrUn_KI270582v1', 'chrUn_KI270588v1', 'chrUn_KI270593v1', 'chrUn_KI270591v1', 'chrUn_KI270330v1', 'chrUn_KI270329v1', 'chrUn_KI270334v1', 'chrUn_KI270333v1', 'chrUn_KI270335v1', 'chrUn_KI270338v1', 'chrUn_KI270340v1', 'chrUn_KI270336v1', 'chrUn_KI270337v1', 'chrUn_KI270363v1', 'chrUn_KI270364v1', 'chrUn_KI270362v1', 'chrUn_KI270366v1', 'chrUn_KI270378v1', 'chrUn_KI270379v1', 'chrUn_KI270389v1', 'chrUn_KI270390v1', 'chrUn_KI270387v1', 'chrUn_KI270395v1', 'chrUn_KI270396v1', 'chrUn_KI270388v1', 'chrUn_KI270394v1', 'chrUn_KI270386v1', 'chrUn_KI270391v1', 'chrUn_KI270383v1', 'chrUn_KI270393v1', 'chrUn_KI270384v1', 'chrUn_KI270392v1', 'chrUn_KI270381v1', 'chrUn_KI270385v1', 'chrUn_KI270382v1', 'chrUn_KI270376v1', 'chrUn_KI270374v1', 'chrUn_KI270372v1', 'chrUn_KI270373v1', 'chrUn_KI270375v1', 'chrUn_KI270371v1', 'chrUn_KI270448v1', 'chrUn_KI270521v1', 'chrUn_GL000195v1', 'chrUn_GL000219v1', 'chrUn_GL000220v1', 'chrUn_GL000224v1', 'chrUn_KI270741v1', 'chrUn_GL000226v1', 'chrUn_GL000213v1', 'chrUn_KI270743v1', 'chrUn_KI270744v1', 'chrUn_KI270745v1', 'chrUn_KI270746v1', 'chrUn_KI270747v1', 'chrUn_KI270748v1', 'chrUn_KI270749v1', 'chrUn_KI270750v1', 'chrUn_KI270751v1', 'chrUn_KI270752v1', 'chrUn_KI270753v1', 'chrUn_KI270754v1', 'chrUn_KI270755v1', 'chrUn_KI270756v1', 'chrUn_KI270757v1', 'chrUn_GL000214v1', 'chrUn_KI270742v1', 'chrUn_GL000216v2', 'chrUn_GL000218v1', 'chrEBV']\n"
          ]
        }
      ],
      "source": [
        "# Usage example\n",
        "file_path_1 = \"HG003_bcf_updated.vcf\"  # Replace with your file path\n",
        "file_path_2 = \"HG003_platypus_updated.vcf\"\n",
        "file_path_3 = \"HG003_gatk_updated.vcf\"\n",
        "result_1 = find_words_between_substring(file_path_1)\n",
        "print(result_1)\n",
        "result_2 = find_words_between_substring(file_path_2)\n",
        "print(result_2)\n",
        "result_3 = find_words_between_substring(file_path_3)\n",
        "print(result_3)\n",
        "\n"
      ]
    },
    {
      "cell_type": "code",
      "execution_count": null,
      "metadata": {
        "colab": {
          "background_save": true
        },
        "id": "Y8W2UEDAKyYf",
        "outputId": "d5178bf9-43cb-4110-e7c6-4dbb6d95a208"
      },
      "outputs": [
        {
          "name": "stdout",
          "output_type": "stream",
          "text": [
            "21\n",
            "22\n"
          ]
        }
      ],
      "source": [
        "#remove not needed words\n",
        "print(result_1.index('chr1'))\n",
        "print(result_3.index('chr1'))\n"
      ]
    },
    {
      "cell_type": "code",
      "execution_count": null,
      "metadata": {
        "colab": {
          "background_save": true
        },
        "id": "_jKCjkfMPFb-"
      },
      "outputs": [],
      "source": [
        "result_1 = result_1[:21]\n",
        "result_3 = result_3[1:22]"
      ]
    },
    {
      "cell_type": "code",
      "execution_count": null,
      "metadata": {
        "colab": {
          "background_save": true
        },
        "id": "KVrm0i0m46SJ"
      },
      "outputs": [],
      "source": [
        "out_1 = map(lambda x:x.lower(), result_1)\n",
        "out_2 = map(lambda x:x.lower(), result_2)\n",
        "out_3 = map(lambda x:x.lower(), result_3)\n",
        "\n",
        "\n",
        "result_1 = list(out_1)\n",
        "result_2 = list(out_2)\n",
        "result_3 = list(out_3)"
      ]
    },
    {
      "cell_type": "code",
      "execution_count": null,
      "metadata": {
        "colab": {
          "background_save": true
        },
        "id": "pCQcEJ9kKyfg",
        "outputId": "7dca4497-85fe-493d-d40d-5c61f1bb2352"
      },
      "outputs": [
        {
          "name": "stdout",
          "output_type": "stream",
          "text": [
            "['indel', 'idv', 'imf', 'dp', 'vdb', 'rpbz', 'mqbz', 'bqbz', 'mqsbz', 'scbz', 'fs', 'sgb', 'mq0f', 'ac', 'an', 'dp4', 'mq', 'pl', 'gt', 'pass', '*']\n",
            "['fr', 'mmlq', 'tcr', 'hp', 'we', 'source', 'fs', 'ws', 'pp', 'tr', 'nf', 'tcf', 'nr', 'tc', 'end', 'mgof', 'sbpval', 'start', 'readposranksum', 'mq', 'qd', 'sc', 'brf', 'hapscore', 'size', 'gt', 'gq', 'gof', 'nr', 'gl', 'nv', 'gof', 'badreads', 'allelebias', 'hp10', 'q20', 'hapscore', 'mq', 'strandbias', 'sc', 'qualdepth', 'refcall', 'qd']\n",
            "['ac', 'af', 'an', 'baseqranksum', 'dp', 'excesshet', 'fs', 'inbreedingcoeff', 'mleac', 'mleaf', 'mq', 'mqranksum', 'qd', 'readposranksum', 'sor', 'ad', 'dp', 'gq', 'gt', 'pl', 'lowqual']\n"
          ]
        }
      ],
      "source": [
        "\n",
        "print(result_1)\n",
        "print(result_2)\n",
        "print(result_3)"
      ]
    },
    {
      "cell_type": "code",
      "execution_count": null,
      "metadata": {
        "colab": {
          "background_save": true
        },
        "id": "miLwo1zHi8wx",
        "outputId": "e3d1ac38-be98-40df-b8a2-170710adf99b"
      },
      "outputs": [
        {
          "name": "stdout",
          "output_type": "stream",
          "text": [
            "[PAD]\n",
            "[unused0]\n",
            "[unused1]\n",
            "[unused2]\n",
            "[unused3]\n",
            "[unused4]\n",
            "[unused5]\n",
            "[unused6]\n",
            "[unused7]\n",
            "[unused8]\n"
          ]
        }
      ],
      "source": [
        "!head bert-base-uncased-vocab.txt"
      ]
    },
    {
      "cell_type": "code",
      "execution_count": null,
      "metadata": {
        "colab": {
          "background_save": true
        },
        "id": "VvzMsKNghqnr"
      },
      "outputs": [],
      "source": [
        "#add unique words to the bert_base_uncased vocabs\n",
        "with open(\"bert-base-uncased-vocab.txt\", \"a\") as f:\n",
        "   for word in result_1:\n",
        "     f.write(word+'\\n')\n",
        "   for h in result_2:\n",
        "     f.write(h+'\\n')\n",
        "   for z in result_3:\n",
        "     f.write(z+'\\n')\n",
        "\n",
        "\n"
      ]
    },
    {
      "cell_type": "code",
      "execution_count": null,
      "metadata": {
        "colab": {
          "background_save": true
        },
        "id": "584ZrJyJjswZ",
        "outputId": "cc513950-3be3-48d1-d8c1-41a0c7c8affe"
      },
      "outputs": [
        {
          "name": "stdout",
          "output_type": "stream",
          "text": [
            "30607 bert-base-uncased-vocab.txt\n"
          ]
        }
      ],
      "source": [
        "!wc -l bert-base-uncased-vocab.txt"
      ]
    },
    {
      "cell_type": "code",
      "execution_count": null,
      "metadata": {
        "colab": {
          "background_save": true
        },
        "id": "QrtEy5SWjsyj"
      },
      "outputs": [],
      "source": [
        "def remove_duplicate_words(file_path, output_file_path):\n",
        "    unique_words = []\n",
        "    seen_words = set()\n",
        "\n",
        "    with open(file_path, 'r') as file:\n",
        "        for line in file:\n",
        "            words = line.strip().split()\n",
        "            for word in words:\n",
        "                if word not in seen_words:\n",
        "                    unique_words.append(word)\n",
        "                    seen_words.add(word)\n",
        "\n",
        "    with open(output_file_path, 'w') as output_file:\n",
        "        for word in unique_words:\n",
        "            output_file.write(word + '\\n')\n",
        "# Usage example\n",
        "input_file_path = \"bert-base-uncased-vocab.txt\"  # Replace with your input file path\n",
        "output_file_path = \"unique_words.txt\"  # Replace with your desired output file path\n",
        "remove_duplicate_words(input_file_path, output_file_path)\n"
      ]
    },
    {
      "cell_type": "code",
      "execution_count": null,
      "metadata": {
        "colab": {
          "background_save": true
        },
        "id": "28M-bEFePtzx",
        "outputId": "5ac6ff48-5f9d-4328-8dea-f90055187a4c"
      },
      "outputs": [
        {
          "name": "stdout",
          "output_type": "stream",
          "text": [
            "30567 unique_words.txt\n"
          ]
        }
      ],
      "source": [
        "!wc -l unique_words.txt\n"
      ]
    },
    {
      "cell_type": "code",
      "execution_count": null,
      "metadata": {
        "colab": {
          "background_save": true
        },
        "id": "Uq2SHjcIkTao",
        "outputId": "8f17e30e-0383-4e67-96cd-e2af6755cf89"
      },
      "outputs": [
        {
          "name": "stdout",
          "output_type": "stream",
          "text": [
            "##．\n",
            "##／\n",
            "##：\n",
            "##？\n",
            "##～\n",
            "indel\n",
            "idv\n",
            "imf\n",
            "dp\n",
            "vdb\n",
            "rpbz\n",
            "mqbz\n",
            "bqbz\n",
            "mqsbz\n",
            "scbz\n",
            "fs\n",
            "sgb\n",
            "mq0f\n",
            "dp4\n",
            "mq\n",
            "mmlq\n",
            "tcr\n",
            "ws\n",
            "nf\n",
            "tcf\n",
            "mgof\n",
            "sbpval\n",
            "readposranksum\n",
            "qd\n",
            "brf\n",
            "hapscore\n",
            "gq\n",
            "gof\n",
            "gl\n",
            "nv\n",
            "badreads\n",
            "allelebias\n",
            "hp10\n",
            "q20\n",
            "strandbias\n",
            "qualdepth\n",
            "refcall\n",
            "baseqranksum\n",
            "excesshet\n",
            "inbreedingcoeff\n",
            "mleac\n",
            "mleaf\n",
            "mqranksum\n",
            "sor\n",
            "lowqual\n"
          ]
        }
      ],
      "source": [
        "!tail -50 unique_words.txt"
      ]
    },
    {
      "cell_type": "code",
      "execution_count": null,
      "metadata": {
        "colab": {
          "background_save": true
        },
        "id": "HDfrvULP42hl"
      },
      "outputs": [],
      "source": [
        "!awk '/^##/{h=$0; next} /^#CHROM/{print h; print; next} {print}' SNPs_merged_hg003.recode.vcf > hg003_snps.vcf\n",
        "!awk '/^##/{h=$0; next} /^#CHROM/{print h; print; next} {print}' INDELs_merged_hg003.recode.vcf > hg003_indel.vcf\n",
        "\n"
      ]
    },
    {
      "cell_type": "code",
      "execution_count": null,
      "metadata": {
        "colab": {
          "background_save": true
        },
        "id": "sS5vD9GgkkkL",
        "outputId": "231a669d-8bc9-431c-b132-7e95f0498440"
      },
      "outputs": [
        {
          "name": "stdout",
          "output_type": "stream",
          "text": [
            "##FILTER=<ID=QD,Description=\"Variants fail quality/depth filter.\">\n",
            "#CHROM\tPOS\tID\tREF\tALT\tQUAL\tFILTER\tINFO\tFORMAT\tHG003\n",
            "chr1\t10097\t.\tTAACCCT\tCAACCCC\t37\tFAIL\tFR=0.5;MMLQ=34.0;TCR=17;HP=3;WE=10111;Source=Platypus;WS=10087;PP=37.0;TR=2;NF=0;TCF=4;NR=2;TC=21;MGOF=64;SbPval=1.0;MQ=15.84;QD=45.2339374311;SC=ACCCTAACCCTAACCCTAACC;BRF=0.89;HapScore=1\tGT:GL:GOF:GQ:NR:NV\t1/0:-9.68,0.0,-75.38:64.0:97:21:2\n",
            "chr1\t10146\t.\tAC\tA\t38\tFAIL\tFR=0.5;MMLQ=15.0;TCR=13;HP=4;WE=10154;Source=Platypus;WS=10136;PP=38.0;TR=13;NF=0;TCF=0;NR=13;TC=13;MGOF=75;SbPval=1.0;MQ=13.94;QD=3.69230769231;SC=CCTAACCCTAACCCCTAACCC;BRF=0.87;HapScore=2\tGT:GL:GOF:GQ:NR:NV\t0/1:-5.37,0.0,-18.97:75.0:54:13:13\n",
            "chr1\t10178\t.\tCCTAA\tC\t82\tFAIL\tFR=0.5;MMLQ=15.0;TCR=9;HP=2;WE=10189;Source=Platypus;WS=10168;PP=82.0;TR=8;NF=0;TCF=0;NR=8;TC=9;MGOF=94;SbPval=1.0;MQ=13.64;QD=11.5;SC=CTAACCCTAACCTAACCCTAA;BRF=0.85;HapScore=3\tGT:GL:GOF:GQ:NR:NV\t1/0:-9.79,0.0,-12.69:94.0:98:9:8\n",
            "chr1\t10230\t.\tAC\tA\t93\tFAIL\tFR=0.5;MMLQ=15.0;TCR=13;HP=4;WE=10239;Source=Platypus;WS=10220;PP=93.0;TR=13;NF=0;TCF=0;NR=13;TC=13;MGOF=142;SbPval=1.0;MQ=18.14;QD=7.92307692308;SC=CCTAACCCTAACCCCTAACCC;BRF=0.81;HapScore=4\tGT:GL:GOF:GQ:NR:NV\t0/1:-8.26,0.0,-18.96:142.0:83:13:13\n",
            "chr1\t10352\t.\tT\tTA\t224\tFAIL\tFR=0.5;MMLQ=15.0;TCR=10;HP=3;WE=10360;Source=Platypus;WS=10342;PP=224.0;TR=9;NF=0;TCF=0;NR=9;TC=10;MGOF=246;SbPval=1.0;MQ=19.72;QD=26.0;SC=ACCCTAACCCTACCCTAACCC;BRF=0.9;HapScore=2\tGT:GL:GOF:GQ:NR:NV\t1/0:-23.91,0.0,-11.71:246.0:99:10:9\n",
            "chr1\t15817\t.\tGCTG\tTCTT\t83\tFAIL\tFR=0.5;MMLQ=36.0;TCR=0;HP=1;WE=15828;Source=Platypus;WS=15807;PP=83.0;TR=2;NF=2;TCF=3;NR=0;TC=3;MGOF=29;SbPval=1.0;MQ=22.17;QD=68.2339374311;SC=TCCTTCTGCTGCTGCTTCTCC;BRF=0.79;HapScore=2\tGT:GL:GOF:GQ:NR:NV\t0/1:-14.3,0.0,-5.2:29.0:52:3:2\n",
            "chr1\t28590\t.\tT\tTTGG\t52\tFAIL\tFR=0.9998;MMLQ=37.0;TCR=1;HP=14;WE=28598;Source=Platypus;WS=28580;PP=52.0;TR=2;NF=1;TCF=1;NR=1;TC=2;MGOF=65;SbPval=0.74;MQ=10.62;QD=27.5;SC=TAATGGTGGTTTTTTTTTTTT;BRF=0.94;HapScore=2\tGT:GL:GOF:GQ:NR:NV\t1/1:-5.2,-0.3,0.0:65.0:5:2:2\n",
            "chr1\t54710\t.\tA\tAT\t56\tFAIL\tFR=0.5;MMLQ=38.0;TCR=4;HP=6;WE=54728;Source=Platypus;WS=54698;PP=56.0;TR=6;NF=2;TCF=2;NR=4;TC=6;MGOF=59;SbPval=0.65;MQ=52.06;QD=14.5;SC=CAAACCTTGTATTTTTCTTTC;BRF=0.56;HapScore=16\tGT:GL:GOF:GQ:NR:NV\t1/0:-3.1,0.0,-12.8:59.0:31:6:6\n"
          ]
        }
      ],
      "source": [
        "!head hg003_indel.vcf"
      ]
    },
    {
      "cell_type": "code",
      "execution_count": null,
      "metadata": {
        "colab": {
          "background_save": true
        },
        "id": "xrFF-TMrIWp-"
      },
      "outputs": [],
      "source": [
        "!sed -i '1d' hg003_snps.vcf\n",
        "!sed -i '1d' hg003_indel.vcf\n"
      ]
    },
    {
      "cell_type": "code",
      "execution_count": null,
      "metadata": {
        "colab": {
          "background_save": true
        },
        "id": "_bNgE_2x42k_",
        "outputId": "13aedf02-5542-4a90-dd35-753c81a5ab56"
      },
      "outputs": [
        {
          "name": "stdout",
          "output_type": "stream",
          "text": [
            "#CHROM\tPOS\tID\tREF\tALT\tQUAL\tFILTER\tINFO\tFORMAT\tHG003\n",
            "chr1\t10291\t.\tC\tT\t89\tFAIL\tFR=0.5;MMLQ=33.0;TCR=11;HP=3;WE=10299;Source=Platypus;WS=10277;PP=89.0;TR=3;NF=0;TCF=0;NR=3;TC=11;MGOF=238;SbPval=1.0;MQ=20.14;QD=41.2570708491;SC=ACCCTAACCCCAACCCCAACC;BRF=0.83;HapScore=4\tGT:GL:GOF:GQ:NR:NV\t0/1:-7.69,0.0,-7.01:238.0:69:11:3\n",
            "chr1\t10327\t.\tT\tC\t12\tFAIL\tFR=0.5;MMLQ=13.0;TCR=12;HP=3;WE=10335;Source=Platypus;WS=10317;PP=12.0;TR=2;NF=0;TCF=0;NR=2;TC=12;MGOF=274;SbPval=1.0;MQ=19.48;QD=23.3856062736;SC=ACCCCAACCCTAACCCCTAAC;BRF=0.87;HapScore=2\tGT:GL:GOF:GQ:NR:NV\t1/0:-5.25,0.0,-12.65:274.0:53:12:2\n",
            "chr1\t13595\t.\tA\tG\t64\tFAIL\tFR=0.502;MMLQ=38.0;TCR=4;HP=2;WE=13603;Source=Platypus;WS=13585;PP=64.0;TR=3;NF=0;TCF=0;NR=3;TC=4;MGOF=0;SbPval=1.0;MQ=11.74;QD=32.9237375157;SC=AACCCAGGAGAGTGTGGAGTC;BRF=0.85;HapScore=2\tGT:GL:GOF:GQ:NR:NV\t0/1:-10.5,0.0,-2.4:0.0:24:4:3\n",
            "chr1\t14930\t.\tA\tG\t30\tFAIL\tFR=0.9998;MMLQ=35.0;TCR=2;HP=1;WE=14938;Source=Platypus;WS=14920;PP=30.0;TR=2;NF=0;TCF=0;NR=2;TC=2;MGOF=34;SbPval=1.0;MQ=11.41;QD=32.3856062736;SC=ACAGAATTACAAGGTGCTGGC;BRF=0.94;HapScore=2\tGT:GL:GOF:GQ:NR:NV\t1/1:-6.5,-0.3,0.0:34.0:5:2:2\n",
            "chr1\t15118\t.\tA\tG\t41\tFAIL\tFR=0.9998;MMLQ=38.0;TCR=0;HP=2;WE=15126;Source=Platypus;WS=15108;PP=41.0;TR=2;NF=2;TCF=2;NR=0;TC=2;MGOF=0;SbPval=1.0;MQ=11.61;QD=37.8856062736;SC=CCCCCATGACACTCCCCAGCC;BRF=0.9;HapScore=2\tGT:GL:GOF:GQ:NR:NV\t1/1:-7.6,-0.3,0.0:0.0:5:2:2\n",
            "chr1\t15211\t.\tT\tG\t96\tFAIL\tFR=0.5;MMLQ=38.0;TCR=4;HP=1;WE=15219;Source=Platypus;WS=15201;PP=96.0;TR=4;NF=1;TCF=2;NR=3;TC=6;MGOF=6;SbPval=0.8;MQ=15.2;QD=32.6928031368;SC=AGACAGCGGCTGTTTGAGGAG;BRF=0.81;HapScore=2\tGT:GL:GOF:GQ:NR:NV\t1/0:-13.69,0.0,-6.09:6.0:61:6:4\n",
            "chr1\t15770\t.\tG\tA\t24\tFAIL\tFR=0.5;MMLQ=35.0;TCR=1;HP=2;WE=15778;Source=Platypus;WS=15760;PP=24.0;TR=2;NF=2;TCF=3;NR=0;TC=4;MGOF=35;SbPval=1.0;MQ=21.19;QD=29.3856062736;SC=AAGGCCCTCCGACTGCAAGCT;BRF=0.71;HapScore=2\tGT:GL:GOF:GQ:NR:NV\t1/0:-6.5,0.0,-4.2:35.0:42:4:2\n",
            "chr1\t16378\t.\tT\tC\t90\tFAIL\tFR=0.5;MMLQ=38.0;TCR=6;HP=4;WE=16386;Source=Platypus;WS=16368;PP=90.0;TR=4;NF=1;TCF=2;NR=3;TC=8;MGOF=0;SbPval=0.68;MQ=17.94;QD=31.1928031368;SC=TAATTAGGAATGGGGAACCCA;BRF=0.73;HapScore=2\tGT:GL:GOF:GQ:NR:NV\t1/0:-13.09,0.0,-10.89:0.0:99:8:4\n",
            "chr1\t16495\t.\tG\tC\t11\tFAIL\tFR=0.5;MMLQ=38.0;TCR=6;HP=1;WE=16503;Source=Platypus;WS=16485;PP=11.0;TR=2;NF=0;TCF=3;NR=2;TC=9;MGOF=0;SbPval=1.0;MQ=20.46;QD=22.8856062736;SC=TATTTGAAATGGAAACTATTC;BRF=0.75;HapScore=2\tGT:GL:GOF:GQ:NR:NV\t1/0:-5.19,0.0,-24.19:0.0:52:9:2\n",
            "chr1\t16974\t.\tC\tT\t28\tFAIL\tFR=0.5;MMLQ=34.0;TCR=2;HP=3;WE=16982;Source=Platypus;WS=16964;PP=28.0;TR=3;NF=3;TCF=6;NR=0;TC=8;MGOF=6;SbPval=1.0;MQ=20.33;QD=20.9237375157;SC=TTGGCAATGCCGGGCAGGTCA;BRF=0.77;HapScore=2\tGT:GL:GOF:GQ:NR:NV\t0/1:-6.89,0.0,-16.69:6.0:69:8:3\n",
            "chr1\t17697\t.\tG\tC\t42\tFAIL\tFR=0.7323;MMLQ=33.0;TCR=0;HP=2;WE=17705;Source=Platypus;WS=17687;PP=42.0;TR=3;NF=3;TCF=4;NR=0;TC=4;MGOF=0;SbPval=1.0;MQ=14.78;QD=25.5904041824;SC=TCGTCCTCGGGCTCCGGCTTG;BRF=0.86;HapScore=2\tGT:GL:GOF:GQ:NR:NV\t1/0:-8.1,0.0,-0.5:0.0:6:4:3\n",
            "chr1\t21093\t.\tC\tT\t29\tFAIL\tFR=0.5003;MMLQ=38.0;TCR=0;HP=3;WE=21101;Source=Platypus;WS=21083;PP=29.0;TR=2;NF=2;TCF=3;NR=0;TC=3;MGOF=9;SbPval=1.0;MQ=14.81;QD=31.8856062736;SC=TTTAAGGGGACGGGTTCAAAG;BRF=0.76;HapScore=2\tGT:GL:GOF:GQ:NR:NV\t0/1:-7.0,0.0,-3.2:9.0:32:3:2\n",
            "chr1\t21991\t.\tA\tG\t38\tFAIL\tFR=0.5;MMLQ=38.0;TCR=0;HP=1;WE=21999;Source=Platypus;WS=21981;PP=38.0;TR=3;NF=3;TCF=5;NR=0;TC=5;MGOF=33;SbPval=1.0;MQ=13.54;QD=24.2570708491;SC=TACTCAAGCAATGGCCCCATT;BRF=0.81;HapScore=2\tGT:GL:GOF:GQ:NR:NV\t0/1:-7.9,0.0,-4.2:33.0:42:5:3\n",
            "chr1\t23881\t.\tC\tA\t21\tFAIL\tFR=0.5003;MMLQ=37.0;TCR=1;HP=1;WE=23889;Source=Platypus;WS=23871;PP=21.0;TR=2;NF=1;TCF=2;NR=1;TC=3;MGOF=0;SbPval=0.56;MQ=11.49;QD=27.8856062736;SC=AGGTCCTCCACCTCCAGGCTG;BRF=0.88;HapScore=2\tGT:GL:GOF:GQ:NR:NV\t1/0:-6.2,0.0,-3.2:0.0:32:3:2\n"
          ]
        }
      ],
      "source": [
        "!head -15 hg003_snps.vcf"
      ]
    },
    {
      "cell_type": "code",
      "execution_count": null,
      "metadata": {
        "colab": {
          "background_save": true
        },
        "id": "rUOkW8Js3xdj",
        "outputId": "ff41ffa1-8810-4e74-d803-ef9f1379da5a"
      },
      "outputs": [
        {
          "name": "stdout",
          "output_type": "stream",
          "text": [
            "Number of training lines: 10,787,570\n",
            "\n",
            "Number of training lines: 2,216,328\n",
            "\n",
            "        ID REF ALT     QUAL FILTER  \\\n",
            "2287511  .   G   A       57   PASS   \n",
            "5738965  .   T   G  176.231   PASS   \n",
            "6621543  .   T   C  131.391   PASS   \n",
            "\n",
            "                                                      INFO  \\\n",
            "2287511  FR=0.5;MMLQ=34.0;TCR=6;HP=1;WE=34402237;Source...   \n",
            "5738965  DP=15;VDB=0.787088;RPBZ=0.236549;BQBZ=-0.07025...   \n",
            "6621543  DP=16;VDB=0.648709;RPBZ=1.15523;BQBZ=-0.616236...   \n",
            "\n",
            "                     FORMAT                           HG003  \n",
            "2287511  GT:GL:GOF:GQ:NR:NV  1/0:-9.76,0.0,-9.86:7.0:95:7:3  \n",
            "5738965               GT:PL                   0/1:209,0,132  \n",
            "6621543               GT:PL                   0/1:164,0,190  \n",
            "        ID  REF         ALT  QUAL FILTER  \\\n",
            "1566658  .    T  TAAGAGACAG  46.6   FAIL   \n",
            "405405   .  CTT           C    56   PASS   \n",
            "241509   .   TA           T   145   PASS   \n",
            "\n",
            "                                                      INFO  \\\n",
            "1566658  AC=1;AF=0.5;AN=2;BaseQRankSum=0.704;DP=13;Exce...   \n",
            "405405   FR=0.9997;MMLQ=13.0;TCR=4;HP=20;WE=111816319;S...   \n",
            "241509   FR=0.5;MMLQ=34.0;TCR=7;HP=7;WE=119997718;Sourc...   \n",
            "\n",
            "                     FORMAT                             HG003  \n",
            "1566658      GT:AD:DP:GQ:PL           0/1:10,2:12:54:54,0,414  \n",
            "405405   GT:GL:GOF:GQ:NR:NV     1/1:-5.6,-0.11,0.0:44.0:4:8:5  \n",
            "241509   GT:GL:GOF:GQ:NR:NV  0/1:-16.79,0.0,-16.69:4.0:99:9:5  \n"
          ]
        }
      ],
      "source": [
        "import pandas as pd\n",
        "\n",
        "# Load the dataset into a pandas dataframe.\n",
        "df_snps = pd.read_csv(\"hg003_snps.vcf\", delimiter='\\t', header=None, names=['#CHROM', 'POS', 'ID', 'REF', 'ALT', 'QUAL', 'FILTER', 'INFO', 'FORMAT', 'HG003'], low_memory=False)\n",
        "df_indels = pd.read_csv(\"hg003_indel.vcf\", delimiter='\\t', header=None, names=['#CHROM', 'POS', 'ID', 'REF', 'ALT', 'QUAL', 'FILTER', 'INFO', 'FORMAT', 'HG003'], low_memory=False)\n",
        "df_snps = df_snps.drop_duplicates()\n",
        "df_indels = df_indels.drop_duplicates()\n",
        "\n",
        "df_snps=df_snps.drop(df_snps.columns[[0, 1]], axis=1)\n",
        "df_indels=df_indels.drop(df_indels.columns[[0, 1]], axis=1)\n",
        "\n",
        "\n",
        "# Report the number of sentences.\n",
        "print('Number of training lines: {:,}\\n'.format(df_snps.shape[0]))\n",
        "print('Number of training lines: {:,}\\n'.format(df_indels.shape[0]))\n",
        "\n",
        "# Display 10 random rows from the data.\n",
        "print(df_snps.sample(3, random_state=42))\n",
        "print(df_indels.sample(3, random_state=42))"
      ]
    },
    {
      "cell_type": "code",
      "execution_count": null,
      "metadata": {
        "colab": {
          "background_save": true
        },
        "id": "fJYq9XYK3xf9",
        "outputId": "382edebc-ca4f-4c95-e021-a0d4df151fbb"
      },
      "outputs": [
        {
          "data": {
            "text/html": [
              "\n",
              "  <div id=\"df-fb9ea043-bc87-40ef-8a5d-8d338471f40d\" class=\"colab-df-container\">\n",
              "    <div>\n",
              "<style scoped>\n",
              "    .dataframe tbody tr th:only-of-type {\n",
              "        vertical-align: middle;\n",
              "    }\n",
              "\n",
              "    .dataframe tbody tr th {\n",
              "        vertical-align: top;\n",
              "    }\n",
              "\n",
              "    .dataframe thead th {\n",
              "        text-align: right;\n",
              "    }\n",
              "</style>\n",
              "<table border=\"1\" class=\"dataframe\">\n",
              "  <thead>\n",
              "    <tr style=\"text-align: right;\">\n",
              "      <th></th>\n",
              "      <th>ID</th>\n",
              "      <th>REF</th>\n",
              "      <th>ALT</th>\n",
              "      <th>QUAL</th>\n",
              "      <th>FILTER</th>\n",
              "      <th>INFO</th>\n",
              "      <th>FORMAT</th>\n",
              "      <th>HG003</th>\n",
              "    </tr>\n",
              "  </thead>\n",
              "  <tbody>\n",
              "    <tr>\n",
              "      <th>2287511</th>\n",
              "      <td>.</td>\n",
              "      <td>G</td>\n",
              "      <td>A</td>\n",
              "      <td>57</td>\n",
              "      <td>0</td>\n",
              "      <td>FR=0.5;MMLQ=34.0;TCR=6;HP=1;WE=34402237;Source...</td>\n",
              "      <td>GT:GL:GOF:GQ:NR:NV</td>\n",
              "      <td>1/0:-9.76,0.0,-9.86:7.0:95:7:3</td>\n",
              "    </tr>\n",
              "    <tr>\n",
              "      <th>5738965</th>\n",
              "      <td>.</td>\n",
              "      <td>T</td>\n",
              "      <td>G</td>\n",
              "      <td>176.231</td>\n",
              "      <td>0</td>\n",
              "      <td>DP=15;VDB=0.787088;RPBZ=0.236549;BQBZ=-0.07025...</td>\n",
              "      <td>GT:PL</td>\n",
              "      <td>0/1:209,0,132</td>\n",
              "    </tr>\n",
              "    <tr>\n",
              "      <th>6621543</th>\n",
              "      <td>.</td>\n",
              "      <td>T</td>\n",
              "      <td>C</td>\n",
              "      <td>131.391</td>\n",
              "      <td>0</td>\n",
              "      <td>DP=16;VDB=0.648709;RPBZ=1.15523;BQBZ=-0.616236...</td>\n",
              "      <td>GT:PL</td>\n",
              "      <td>0/1:164,0,190</td>\n",
              "    </tr>\n",
              "  </tbody>\n",
              "</table>\n",
              "</div>\n",
              "    <div class=\"colab-df-buttons\">\n",
              "\n",
              "  <div class=\"colab-df-container\">\n",
              "    <button class=\"colab-df-convert\" onclick=\"convertToInteractive('df-fb9ea043-bc87-40ef-8a5d-8d338471f40d')\"\n",
              "            title=\"Convert this dataframe to an interactive table.\"\n",
              "            style=\"display:none;\">\n",
              "\n",
              "  <svg xmlns=\"http://www.w3.org/2000/svg\" height=\"24px\" viewBox=\"0 -960 960 960\">\n",
              "    <path d=\"M120-120v-720h720v720H120Zm60-500h600v-160H180v160Zm220 220h160v-160H400v160Zm0 220h160v-160H400v160ZM180-400h160v-160H180v160Zm440 0h160v-160H620v160ZM180-180h160v-160H180v160Zm440 0h160v-160H620v160Z\"/>\n",
              "  </svg>\n",
              "    </button>\n",
              "\n",
              "  <style>\n",
              "    .colab-df-container {\n",
              "      display:flex;\n",
              "      gap: 12px;\n",
              "    }\n",
              "\n",
              "    .colab-df-convert {\n",
              "      background-color: #E8F0FE;\n",
              "      border: none;\n",
              "      border-radius: 50%;\n",
              "      cursor: pointer;\n",
              "      display: none;\n",
              "      fill: #1967D2;\n",
              "      height: 32px;\n",
              "      padding: 0 0 0 0;\n",
              "      width: 32px;\n",
              "    }\n",
              "\n",
              "    .colab-df-convert:hover {\n",
              "      background-color: #E2EBFA;\n",
              "      box-shadow: 0px 1px 2px rgba(60, 64, 67, 0.3), 0px 1px 3px 1px rgba(60, 64, 67, 0.15);\n",
              "      fill: #174EA6;\n",
              "    }\n",
              "\n",
              "    .colab-df-buttons div {\n",
              "      margin-bottom: 4px;\n",
              "    }\n",
              "\n",
              "    [theme=dark] .colab-df-convert {\n",
              "      background-color: #3B4455;\n",
              "      fill: #D2E3FC;\n",
              "    }\n",
              "\n",
              "    [theme=dark] .colab-df-convert:hover {\n",
              "      background-color: #434B5C;\n",
              "      box-shadow: 0px 1px 3px 1px rgba(0, 0, 0, 0.15);\n",
              "      filter: drop-shadow(0px 1px 2px rgba(0, 0, 0, 0.3));\n",
              "      fill: #FFFFFF;\n",
              "    }\n",
              "  </style>\n",
              "\n",
              "    <script>\n",
              "      const buttonEl =\n",
              "        document.querySelector('#df-fb9ea043-bc87-40ef-8a5d-8d338471f40d button.colab-df-convert');\n",
              "      buttonEl.style.display =\n",
              "        google.colab.kernel.accessAllowed ? 'block' : 'none';\n",
              "\n",
              "      async function convertToInteractive(key) {\n",
              "        const element = document.querySelector('#df-fb9ea043-bc87-40ef-8a5d-8d338471f40d');\n",
              "        const dataTable =\n",
              "          await google.colab.kernel.invokeFunction('convertToInteractive',\n",
              "                                                    [key], {});\n",
              "        if (!dataTable) return;\n",
              "\n",
              "        const docLinkHtml = 'Like what you see? Visit the ' +\n",
              "          '<a target=\"_blank\" href=https://colab.research.google.com/notebooks/data_table.ipynb>data table notebook</a>'\n",
              "          + ' to learn more about interactive tables.';\n",
              "        element.innerHTML = '';\n",
              "        dataTable['output_type'] = 'display_data';\n",
              "        await google.colab.output.renderOutput(dataTable, element);\n",
              "        const docLink = document.createElement('div');\n",
              "        docLink.innerHTML = docLinkHtml;\n",
              "        element.appendChild(docLink);\n",
              "      }\n",
              "    </script>\n",
              "  </div>\n",
              "\n",
              "\n",
              "<div id=\"df-d2aa136a-25c4-4819-a119-e94e72407829\">\n",
              "  <button class=\"colab-df-quickchart\" onclick=\"quickchart('df-d2aa136a-25c4-4819-a119-e94e72407829')\"\n",
              "            title=\"Suggest charts.\"\n",
              "            style=\"display:none;\">\n",
              "\n",
              "<svg xmlns=\"http://www.w3.org/2000/svg\" height=\"24px\"viewBox=\"0 0 24 24\"\n",
              "     width=\"24px\">\n",
              "    <g>\n",
              "        <path d=\"M19 3H5c-1.1 0-2 .9-2 2v14c0 1.1.9 2 2 2h14c1.1 0 2-.9 2-2V5c0-1.1-.9-2-2-2zM9 17H7v-7h2v7zm4 0h-2V7h2v10zm4 0h-2v-4h2v4z\"/>\n",
              "    </g>\n",
              "</svg>\n",
              "  </button>\n",
              "\n",
              "<style>\n",
              "  .colab-df-quickchart {\n",
              "      --bg-color: #E8F0FE;\n",
              "      --fill-color: #1967D2;\n",
              "      --hover-bg-color: #E2EBFA;\n",
              "      --hover-fill-color: #174EA6;\n",
              "      --disabled-fill-color: #AAA;\n",
              "      --disabled-bg-color: #DDD;\n",
              "  }\n",
              "\n",
              "  [theme=dark] .colab-df-quickchart {\n",
              "      --bg-color: #3B4455;\n",
              "      --fill-color: #D2E3FC;\n",
              "      --hover-bg-color: #434B5C;\n",
              "      --hover-fill-color: #FFFFFF;\n",
              "      --disabled-bg-color: #3B4455;\n",
              "      --disabled-fill-color: #666;\n",
              "  }\n",
              "\n",
              "  .colab-df-quickchart {\n",
              "    background-color: var(--bg-color);\n",
              "    border: none;\n",
              "    border-radius: 50%;\n",
              "    cursor: pointer;\n",
              "    display: none;\n",
              "    fill: var(--fill-color);\n",
              "    height: 32px;\n",
              "    padding: 0;\n",
              "    width: 32px;\n",
              "  }\n",
              "\n",
              "  .colab-df-quickchart:hover {\n",
              "    background-color: var(--hover-bg-color);\n",
              "    box-shadow: 0 1px 2px rgba(60, 64, 67, 0.3), 0 1px 3px 1px rgba(60, 64, 67, 0.15);\n",
              "    fill: var(--button-hover-fill-color);\n",
              "  }\n",
              "\n",
              "  .colab-df-quickchart-complete:disabled,\n",
              "  .colab-df-quickchart-complete:disabled:hover {\n",
              "    background-color: var(--disabled-bg-color);\n",
              "    fill: var(--disabled-fill-color);\n",
              "    box-shadow: none;\n",
              "  }\n",
              "\n",
              "  .colab-df-spinner {\n",
              "    border: 2px solid var(--fill-color);\n",
              "    border-color: transparent;\n",
              "    border-bottom-color: var(--fill-color);\n",
              "    animation:\n",
              "      spin 1s steps(1) infinite;\n",
              "  }\n",
              "\n",
              "  @keyframes spin {\n",
              "    0% {\n",
              "      border-color: transparent;\n",
              "      border-bottom-color: var(--fill-color);\n",
              "      border-left-color: var(--fill-color);\n",
              "    }\n",
              "    20% {\n",
              "      border-color: transparent;\n",
              "      border-left-color: var(--fill-color);\n",
              "      border-top-color: var(--fill-color);\n",
              "    }\n",
              "    30% {\n",
              "      border-color: transparent;\n",
              "      border-left-color: var(--fill-color);\n",
              "      border-top-color: var(--fill-color);\n",
              "      border-right-color: var(--fill-color);\n",
              "    }\n",
              "    40% {\n",
              "      border-color: transparent;\n",
              "      border-right-color: var(--fill-color);\n",
              "      border-top-color: var(--fill-color);\n",
              "    }\n",
              "    60% {\n",
              "      border-color: transparent;\n",
              "      border-right-color: var(--fill-color);\n",
              "    }\n",
              "    80% {\n",
              "      border-color: transparent;\n",
              "      border-right-color: var(--fill-color);\n",
              "      border-bottom-color: var(--fill-color);\n",
              "    }\n",
              "    90% {\n",
              "      border-color: transparent;\n",
              "      border-bottom-color: var(--fill-color);\n",
              "    }\n",
              "  }\n",
              "</style>\n",
              "\n",
              "  <script>\n",
              "    async function quickchart(key) {\n",
              "      const quickchartButtonEl =\n",
              "        document.querySelector('#' + key + ' button');\n",
              "      quickchartButtonEl.disabled = true;  // To prevent multiple clicks.\n",
              "      quickchartButtonEl.classList.add('colab-df-spinner');\n",
              "      try {\n",
              "        const charts = await google.colab.kernel.invokeFunction(\n",
              "            'suggestCharts', [key], {});\n",
              "      } catch (error) {\n",
              "        console.error('Error during call to suggestCharts:', error);\n",
              "      }\n",
              "      quickchartButtonEl.classList.remove('colab-df-spinner');\n",
              "      quickchartButtonEl.classList.add('colab-df-quickchart-complete');\n",
              "    }\n",
              "    (() => {\n",
              "      let quickchartButtonEl =\n",
              "        document.querySelector('#df-d2aa136a-25c4-4819-a119-e94e72407829 button');\n",
              "      quickchartButtonEl.style.display =\n",
              "        google.colab.kernel.accessAllowed ? 'block' : 'none';\n",
              "    })();\n",
              "  </script>\n",
              "</div>\n",
              "    </div>\n",
              "  </div>\n"
            ],
            "text/plain": [
              "        ID REF ALT     QUAL FILTER  \\\n",
              "2287511  .   G   A       57      0   \n",
              "5738965  .   T   G  176.231      0   \n",
              "6621543  .   T   C  131.391      0   \n",
              "\n",
              "                                                      INFO  \\\n",
              "2287511  FR=0.5;MMLQ=34.0;TCR=6;HP=1;WE=34402237;Source...   \n",
              "5738965  DP=15;VDB=0.787088;RPBZ=0.236549;BQBZ=-0.07025...   \n",
              "6621543  DP=16;VDB=0.648709;RPBZ=1.15523;BQBZ=-0.616236...   \n",
              "\n",
              "                     FORMAT                           HG003  \n",
              "2287511  GT:GL:GOF:GQ:NR:NV  1/0:-9.76,0.0,-9.86:7.0:95:7:3  \n",
              "5738965               GT:PL                   0/1:209,0,132  \n",
              "6621543               GT:PL                   0/1:164,0,190  "
            ]
          },
          "execution_count": 37,
          "metadata": {},
          "output_type": "execute_result"
        }
      ],
      "source": [
        "df_snps['FILTER'].replace(['PASS', 'FAIL'],\n",
        "                        [0, 1], inplace=True)\n",
        "df_indels['FILTER'].replace(['PASS', 'FAIL'],\n",
        "                        [0, 1], inplace=True)\n",
        "\n",
        "# Display 10 random rows from the data.\n",
        "df_snps.sample(3, random_state=42)"
      ]
    },
    {
      "cell_type": "code",
      "execution_count": null,
      "metadata": {
        "colab": {
          "background_save": true
        },
        "id": "hRQxrpUx3xiP"
      },
      "outputs": [],
      "source": []
    },
    {
      "cell_type": "code",
      "execution_count": null,
      "metadata": {
        "colab": {
          "background_save": true
        },
        "id": "HewiMdwo3xke"
      },
      "outputs": [],
      "source": []
    },
    {
      "cell_type": "code",
      "execution_count": null,
      "metadata": {
        "colab": {
          "background_save": true
        },
        "id": "FbCLvS9R3xmt"
      },
      "outputs": [],
      "source": []
    },
    {
      "cell_type": "code",
      "execution_count": null,
      "metadata": {
        "colab": {
          "background_save": true
        },
        "id": "uNf0iYV13xo8"
      },
      "outputs": [],
      "source": []
    },
    {
      "cell_type": "code",
      "execution_count": null,
      "metadata": {
        "colab": {
          "background_save": true
        },
        "id": "de0HNqvl3xrU"
      },
      "outputs": [],
      "source": []
    },
    {
      "cell_type": "code",
      "execution_count": null,
      "metadata": {
        "colab": {
          "background_save": true
        },
        "id": "isaJMU8R3xtf"
      },
      "outputs": [],
      "source": [
        "df_snps.to_csv('hg003_snps.csv', index=False)\n",
        "df_indels.to_csv('hg003_indels.csv', index=False)"
      ]
    },
    {
      "cell_type": "code",
      "execution_count": null,
      "metadata": {
        "colab": {
          "background_save": true
        },
        "id": "MzomDayW3xvh"
      },
      "outputs": [],
      "source": []
    },
    {
      "cell_type": "code",
      "execution_count": null,
      "metadata": {
        "colab": {
          "background_save": true
        },
        "id": "AiPyVvff3xxr"
      },
      "outputs": [],
      "source": []
    },
    {
      "cell_type": "code",
      "execution_count": null,
      "metadata": {
        "colab": {
          "background_save": true
        },
        "id": "urYC2lSG3xzt"
      },
      "outputs": [],
      "source": []
    },
    {
      "cell_type": "code",
      "execution_count": null,
      "metadata": {
        "colab": {
          "background_save": true
        },
        "id": "yKQ-z8K6OV_Z"
      },
      "outputs": [],
      "source": [
        "!cp hg003_snps.csv ./drive/MyDrive/Colab\\ Notebooks/deepref\n",
        "!cp hg003_indels.csv ./drive/MyDrive/Colab\\ Notebooks/deepref\n",
        "!cp unique_words.txt ./drive/MyDrive/Colab\\ Notebooks/deepref\n"
      ]
    },
    {
      "cell_type": "code",
      "execution_count": null,
      "metadata": {
        "colab": {
          "background_save": true
        },
        "id": "NImLjgqlEZS9",
        "outputId": "407b1a64-d5a7-411c-a373-9d93c191b71e"
      },
      "outputs": [
        {
          "name": "stdout",
          "output_type": "stream",
          "text": [
            "total 7.5G\n",
            "drwx------ 2 root root 4.0K May 16 16:30 \u001b[0m\u001b[01;34manalysis_utils\u001b[0m/\n",
            "-rw------- 1 root root 677M May 25 21:59 HG003-bcf.vcf\n",
            "-rw------- 1 root root 891M Jun 28 13:33 HG003_gatk.vcf\n",
            "-rw------- 1 root root 2.6G May 25 22:00 HG003_GRCh38_1_22_v4.2.1_benchmark.vcf\n",
            "-rw------- 1 root root 456M Sep 12 21:57 hg003_indels.csv\n",
            "-rw------- 1 root root 1.0G Jun 28 13:24 HG003_platypus.vcf\n",
            "-rw------- 1 root root 2.0G Sep 12 21:57 hg003_snps.csv\n",
            "-rw------- 1 root root  21M May 15 19:03 training_data.pkl\n",
            "-rw------- 1 root root  22M May 15 19:03 training_data_preprocessed.pkl\n",
            "-rw------- 1 root root 227K Sep 12 21:57 unique_words.txt\n"
          ]
        }
      ],
      "source": [
        "ls -lh ./drive/MyDrive/Colab\\ Notebooks/deepref"
      ]
    },
    {
      "cell_type": "code",
      "execution_count": null,
      "metadata": {
        "colab": {
          "background_save": true
        },
        "id": "7Hy4JKboEc9b"
      },
      "outputs": [],
      "source": []
    }
  ],
  "metadata": {
    "colab": {
      "provenance": [],
      "include_colab_link": true
    },
    "kernelspec": {
      "display_name": "Python 3",
      "name": "python3"
    },
    "language_info": {
      "name": "python"
    }
  },
  "nbformat": 4,
  "nbformat_minor": 0
}