{
  "nbformat": 4,
  "nbformat_minor": 0,
  "metadata": {
    "colab": {
      "provenance": []
    },
    "kernelspec": {
      "name": "python3",
      "display_name": "Python 3"
    },
    "language_info": {
      "name": "python"
    }
  },
  "cells": [
    {
      "cell_type": "code",
      "source": [
        "import vcf\n",
        "\n",
        "#if a variat exist in both a VCF file anf the reference VCF, the variant FILTER is set to PASS. Else, it is FAIL\n",
        "def update_filter_column(vcf_file, reference_vcf, output_vcf):\n",
        "    vcf_reader = vcf.Reader(filename=vcf_file)\n",
        "    reference_reader = vcf.Reader(filename=reference_vcf)\n",
        "\n",
        "    reference_variants = set((record.POS) for record in reference_reader)\n",
        "\n",
        "    vcf_writer = vcf.Writer(open(output_vcf, 'w'), vcf_reader)\n",
        "\n",
        "    for record in vcf_reader:\n",
        "        variant_key = (record.POS)\n",
        "        if variant_key in reference_variants:\n",
        "            record.FILTER = \"PASS\"\n",
        "\n",
        "        else:\n",
        "            record.FILTER = \"FAIL\"\n",
        "\n",
        "        vcf_writer.write_record(record)\n",
        "\n",
        "\n",
        "\n"
      ],
      "metadata": {
        "id": "FW_BJWvaZXH9"
      },
      "execution_count": null,
      "outputs": []
    },
    {
      "cell_type": "code",
      "source": [
        "# Provide the paths to your VCF files\n",
        "file_1 = \"/path/to/yourvcf.vcf\"\n",
        "reference_vcf_path = \"/path/to/benchmark.vcf\"\n",
        "output_1 = \"/path/to/out.vcf\"\n",
        "\n",
        "\n",
        "\n",
        "update_filter_column(file_1, reference_vcf_path, output_1)\n"
      ],
      "metadata": {
        "id": "rO0LF3r5ZXKL"
      },
      "execution_count": null,
      "outputs": []
    },
    {
      "cell_type": "code",
      "source": [
        "#print the number of fail variants\n",
        "!grep -o -i FAIL out.vcf | wc -l\n",
        "\n",
        "!grep -o -i PASS out.vcf | wc -l\n"
      ],
      "metadata": {
        "colab": {
          "base_uri": "https://localhost:8080/"
        },
        "id": "rnU1NJ5PbNtM",
        "outputId": "6c454fc9-d6ba-46f9-f49b-e31a3718bf6f"
      },
      "execution_count": null,
      "outputs": [
        {
          "output_type": "stream",
          "name": "stdout",
          "text": [
            "2869259\n",
            "3774383\n"
          ]
        }
      ]
    },
    {
      "cell_type": "code",
      "source": [
        "#remove lines starting with ##\n",
        "!awk '/^##/{h=$0; next} /^#CHROM/{print h; print; next} {print}' out.vcf > updated_out.vcf\n",
        "\n"
      ],
      "metadata": {
        "id": "9VLMIDNObNvd"
      },
      "execution_count": null,
      "outputs": []
    },
    {
      "cell_type": "code",
      "source": [
        "!head updated_out.vcf"
      ],
      "metadata": {
        "colab": {
          "base_uri": "https://localhost:8080/"
        },
        "id": "qXmQabhgcFxw",
        "outputId": "6267f526-a6db-4b7c-817b-abb888e1ecef"
      },
      "execution_count": null,
      "outputs": [
        {
          "output_type": "stream",
          "name": "stdout",
          "text": [
            "##contig=<ID=chrEBV,length=171823>\n",
            "#CHROM\tPOS\tID\tREF\tALT\tQUAL\tFILTER\tINFO\tFORMAT\tHG006\n",
            "chr1\t10108\t.\tC\tCT\t3.7\tFAIL\t.\tGT:GQ:DP:AD:VAF:PL\t./.:2:49:38,4:0.0816327:0,1,1\n",
            "chr1\t10146\t.\tAC\tA\t1.2\tFAIL\t.\tGT:GQ:DP:AD:VAF:PL\t./.:6:25:19,5:0.2:0,7,8\n",
            "chr1\t10177\t.\tA\tAC\t1.2\tFAIL\t.\tGT:GQ:DP:AD:VAF:PL\t./.:6:22:15,3:0.136364:0,11,5\n",
            "chr1\t10204\t.\tTA\tT\t0.2\tFAIL\t.\tGT:GQ:DP:AD:VAF:PL\t./.:14:25:22,2:0.08:0,17,16\n",
            "chr1\t10212\t.\tAC\tA\t0.2\tFAIL\t.\tGT:GQ:DP:AD:VAF:PL\t./.:13:27:21,3:0.111111:0,15,15\n",
            "chr1\t10230\t.\tAC\tA\t0.1\tFAIL\t.\tGT:GQ:DP:AD:VAF:PL\t./.:16:26:21,5:0.192308:0,20,17\n",
            "chr1\t10236\t.\tAACCCT\tA\t0.1\tFAIL\t.\tGT:GQ:DP:AD:VAF:PL\t./.:19:22:20,2:0.0909091:0,20,22\n",
            "chr1\t10279\t.\tT\tC\t.\tFAIL\t.\tGT:GQ:DP:AD:VAF:PL\t0/0:23:16:13,2:0.125:0,32,23\n"
          ]
        }
      ]
    },
    {
      "cell_type": "code",
      "source": [
        "#remove last ##line\n",
        "!sed -i '1d' updated_out.vcf"
      ],
      "metadata": {
        "id": "F6YZharrcF0J"
      },
      "execution_count": null,
      "outputs": []
    },
    {
      "cell_type": "code",
      "source": [
        "!head updated_out.vcf"
      ],
      "metadata": {
        "colab": {
          "base_uri": "https://localhost:8080/"
        },
        "id": "Im1edF67cF2d",
        "outputId": "41134f2c-cea9-4434-938e-352827c72cf6"
      },
      "execution_count": null,
      "outputs": [
        {
          "output_type": "stream",
          "name": "stdout",
          "text": [
            "#CHROM\tPOS\tID\tREF\tALT\tQUAL\tFILTER\tINFO\tFORMAT\tHG006\n",
            "chr1\t10108\t.\tC\tCT\t3.7\tFAIL\t.\tGT:GQ:DP:AD:VAF:PL\t./.:2:49:38,4:0.0816327:0,1,1\n",
            "chr1\t10146\t.\tAC\tA\t1.2\tFAIL\t.\tGT:GQ:DP:AD:VAF:PL\t./.:6:25:19,5:0.2:0,7,8\n",
            "chr1\t10177\t.\tA\tAC\t1.2\tFAIL\t.\tGT:GQ:DP:AD:VAF:PL\t./.:6:22:15,3:0.136364:0,11,5\n",
            "chr1\t10204\t.\tTA\tT\t0.2\tFAIL\t.\tGT:GQ:DP:AD:VAF:PL\t./.:14:25:22,2:0.08:0,17,16\n",
            "chr1\t10212\t.\tAC\tA\t0.2\tFAIL\t.\tGT:GQ:DP:AD:VAF:PL\t./.:13:27:21,3:0.111111:0,15,15\n",
            "chr1\t10230\t.\tAC\tA\t0.1\tFAIL\t.\tGT:GQ:DP:AD:VAF:PL\t./.:16:26:21,5:0.192308:0,20,17\n",
            "chr1\t10236\t.\tAACCCT\tA\t0.1\tFAIL\t.\tGT:GQ:DP:AD:VAF:PL\t./.:19:22:20,2:0.0909091:0,20,22\n",
            "chr1\t10279\t.\tT\tC\t.\tFAIL\t.\tGT:GQ:DP:AD:VAF:PL\t0/0:23:16:13,2:0.125:0,32,23\n",
            "chr1\t10281\t.\tA\tC\t.\tFAIL\t.\tGT:GQ:DP:AD:VAF:PL\t0/0:25:16:14,2:0.125:0,28,27\n"
          ]
        }
      ]
    },
    {
      "cell_type": "code",
      "source": [
        "import pandas as pd\n",
        "\n",
        "def vcf_to_csv(file):\n",
        "  # Load the dataset into a pandas dataframe.\n",
        "  df = pd.read_csv(file, delimiter='\\t', header=None, names=['#CHROM', 'POS', 'ID', 'REF', 'ALT', 'QUAL', 'FILTER', 'INFO', 'FORMAT', 'HG007'], low_memory=False)\n",
        "\n",
        "\n",
        "  df=df.drop(df.columns[[0, 1, 2, 3, 4]], axis=1)\n",
        "\n",
        "\n",
        "  # Report the number of sentences.\n",
        "  print('Number of training lines: {:,}\\n'.format(df.shape[0]))\n",
        "\n",
        "  # Display 10 random rows from the data.\n",
        "  print(df.sample(3, random_state=42))\n",
        "  df['FILTER'].replace(['PASS', 'FAIL'],\n",
        "                        [0, 1], inplace=True)\n",
        "  # Display 10 random rows from the data.\n",
        "  print(df.sample(10, random_state=42))\n",
        "  return df\n"
      ],
      "metadata": {
        "id": "Kww8AU5xkXpv"
      },
      "execution_count": null,
      "outputs": []
    },
    {
      "cell_type": "code",
      "source": [
        "dv = vcf_to_csv('updated_out.vcf')\n"
      ],
      "metadata": {
        "colab": {
          "base_uri": "https://localhost:8080/"
        },
        "id": "GfxYofuBmyr6",
        "outputId": "816f9e50-e5c9-4f97-e0c4-507abdde2b7b"
      },
      "execution_count": null,
      "outputs": [
        {
          "output_type": "stream",
          "name": "stdout",
          "text": [
            "Number of training lines: 6,643,641\n",
            "\n",
            "         QUAL FILTER INFO              FORMAT                           HG007\n",
            "3563193  14.2   PASS    .  GT:GQ:DP:AD:VAF:PL     0/1:14:20:13,7:0.35:14,0,26\n",
            "3990071  24.7   PASS    .  GT:GQ:DP:AD:VAF:PL   0/1:25:9:6,3:0.333333:24,0,41\n",
            "5922202     .   FAIL    .  GT:GQ:DP:AD:VAF:PL  0/0:39:13:8,5:0.384615:0,39,55\n",
            "         QUAL FILTER INFO              FORMAT                            HG007\n",
            "3563193  14.2      0    .  GT:GQ:DP:AD:VAF:PL      0/1:14:20:13,7:0.35:14,0,26\n",
            "3990071  24.7      0    .  GT:GQ:DP:AD:VAF:PL    0/1:25:9:6,3:0.333333:24,0,41\n",
            "5922202     .      1    .  GT:GQ:DP:AD:VAF:PL   0/0:39:13:8,5:0.384615:0,39,55\n",
            "2977431     .      1    .  GT:GQ:DP:AD:VAF:PL    0/0:50:9:7,2:0.222222:0,50,61\n",
            "4604941  21.3      0    .  GT:GQ:DP:AD:VAF:PL    1/1:17:9:0,8:0.888889:21,18,0\n",
            "4115669  35.2      0    .  GT:GQ:DP:AD:VAF:PL       1/1:23:12:0,12:1.0:35,23,0\n",
            "192754      .      1    .  GT:GQ:DP:AD:VAF:PL  0/0:53:13:10,3:0.230769:0,52,65\n",
            "5339284  10.1      0    .  GT:GQ:DP:AD:VAF:PL         0/1:10:10:6,4:0.4:9,0,33\n",
            "6457217     .      1    .  GT:GQ:DP:AD:VAF:PL         0/0:26:5:3,2:0.4:0,26,38\n",
            "1507582  11.3      0    .  GT:GQ:DP:AD:VAF:PL    0/1:11:7:4,3:0.428571:10,0,29\n"
          ]
        }
      ]
    },
    {
      "cell_type": "code",
      "source": [
        "dv.to_csv('updated_out.csv', index=False)\n"
      ],
      "metadata": {
        "id": "jWzsmFvWkXuN"
      },
      "execution_count": null,
      "outputs": []
    },
    {
      "cell_type": "code",
      "source": [],
      "metadata": {
        "id": "dlK-jq7JlIdQ"
      },
      "execution_count": null,
      "outputs": []
    }
  ]
}